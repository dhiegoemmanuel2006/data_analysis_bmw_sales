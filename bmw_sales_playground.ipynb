{
  "nbformat": 4,
  "nbformat_minor": 0,
  "metadata": {
    "colab": {
      "provenance": [],
      "mount_file_id": "1Ylqx2oEZFxJEvabz9n-ROK4-VTwqxTDm",
      "authorship_tag": "ABX9TyO/45OEHk2HamRdAa0ERWif",
      "include_colab_link": true
    },
    "kernelspec": {
      "name": "python3",
      "display_name": "Python 3"
    },
    "language_info": {
      "name": "python"
    }
  },
  "cells": [
    {
      "cell_type": "markdown",
      "metadata": {
        "id": "view-in-github",
        "colab_type": "text"
      },
      "source": [
        "<a href=\"https://colab.research.google.com/github/dhiegoemmanuel2006/data_analysis_bmw_sales/blob/main/bmw_sales_playground.ipynb\" target=\"_parent\"><img src=\"https://colab.research.google.com/assets/colab-badge.svg\" alt=\"Open In Colab\"/></a>"
      ]
    },
    {
      "cell_type": "markdown",
      "source": [
        "##📑**Descrição projeto**\n",
        "O objetivo do projeto é colocar em prática diversos conceitos a respeito de **Python, Pandas, Matplotlib** e adentrar na base de dados atrás de informações relevantes.\n",
        "\n",
        "O Dataset utilizado é vindo do site Kaggle, site normalmente utilizado com diversas bases de dados e testes relacionados a Análise e Ciêcia de dados.\n",
        "\n",
        "url: https://www.kaggle.com/datasets/ahmadrazakashif/bmw-worldwide-sales-records-20102024\n",
        "\n",
        "🔎Informações chave\n",
        "\n",
        "\n",
        "*   Asia é recorde em vendas\n",
        "*   O melhor ano de vendas foi 2022\n",
        "*   Top 3: 7 Series(23,7M), i8(23,42M), X1 (23,40M)\n"
      ],
      "metadata": {
        "id": "WuDHO8ZrABrQ"
      }
    },
    {
      "cell_type": "markdown",
      "source": [
        "Instalando DataSet do Kaggle"
      ],
      "metadata": {
        "id": "fw6KADGmHN30"
      }
    },
    {
      "cell_type": "code",
      "source": [
        "!mkdir -p ~/.kaggle\n",
        "!cp kaggle.json ~/.kaggle/\n",
        "!chmod 600 ~/.kaggle/kaggle.json\n",
        "!kaggle datasets download ahmadrazakashif/bmw-worldwide-sales-records-20102024\n",
        "!unzip bmw-worldwide-sales-records-20102024.zip"
      ],
      "metadata": {
        "colab": {
          "base_uri": "https://localhost:8080/"
        },
        "id": "Cql6lvVOHXEc",
        "outputId": "82978afa-beb6-4b2e-f71a-a455368b2be1"
      },
      "execution_count": 1,
      "outputs": [
        {
          "output_type": "stream",
          "name": "stdout",
          "text": [
            "Dataset URL: https://www.kaggle.com/datasets/ahmadrazakashif/bmw-worldwide-sales-records-20102024\n",
            "License(s): ODC Public Domain Dedication and Licence (PDDL)\n",
            "Downloading bmw-worldwide-sales-records-20102024.zip to /content\n",
            "  0% 0.00/833k [00:00<?, ?B/s]\n",
            "100% 833k/833k [00:00<00:00, 386MB/s]\n",
            "Archive:  bmw-worldwide-sales-records-20102024.zip\n",
            "  inflating: BMW sales data (2010-2024) (1).csv  \n"
          ]
        }
      ]
    },
    {
      "cell_type": "markdown",
      "source": [
        "Instalação das bibliotecas"
      ],
      "metadata": {
        "id": "LeIcPM9JHHZe"
      }
    },
    {
      "cell_type": "code",
      "source": [
        "%pip install pandas matplot\n"
      ],
      "metadata": {
        "colab": {
          "base_uri": "https://localhost:8080/"
        },
        "id": "9GPr4dX_GsHC",
        "outputId": "42a194f0-389c-4a11-ead9-e5d54c10b392"
      },
      "execution_count": 2,
      "outputs": [
        {
          "output_type": "stream",
          "name": "stdout",
          "text": [
            "Requirement already satisfied: pandas in /usr/local/lib/python3.12/dist-packages (2.2.2)\n",
            "Requirement already satisfied: matplot in /usr/local/lib/python3.12/dist-packages (0.1.9)\n",
            "Requirement already satisfied: numpy>=1.26.0 in /usr/local/lib/python3.12/dist-packages (from pandas) (2.0.2)\n",
            "Requirement already satisfied: python-dateutil>=2.8.2 in /usr/local/lib/python3.12/dist-packages (from pandas) (2.9.0.post0)\n",
            "Requirement already satisfied: pytz>=2020.1 in /usr/local/lib/python3.12/dist-packages (from pandas) (2025.2)\n",
            "Requirement already satisfied: tzdata>=2022.7 in /usr/local/lib/python3.12/dist-packages (from pandas) (2025.2)\n",
            "Requirement already satisfied: pyloco>=0.0.134 in /usr/local/lib/python3.12/dist-packages (from matplot) (0.0.139)\n",
            "Requirement already satisfied: matplotlib>=3.1.1 in /usr/local/lib/python3.12/dist-packages (from matplot) (3.10.0)\n",
            "Requirement already satisfied: contourpy>=1.0.1 in /usr/local/lib/python3.12/dist-packages (from matplotlib>=3.1.1->matplot) (1.3.3)\n",
            "Requirement already satisfied: cycler>=0.10 in /usr/local/lib/python3.12/dist-packages (from matplotlib>=3.1.1->matplot) (0.12.1)\n",
            "Requirement already satisfied: fonttools>=4.22.0 in /usr/local/lib/python3.12/dist-packages (from matplotlib>=3.1.1->matplot) (4.60.1)\n",
            "Requirement already satisfied: kiwisolver>=1.3.1 in /usr/local/lib/python3.12/dist-packages (from matplotlib>=3.1.1->matplot) (1.4.9)\n",
            "Requirement already satisfied: packaging>=20.0 in /usr/local/lib/python3.12/dist-packages (from matplotlib>=3.1.1->matplot) (25.0)\n",
            "Requirement already satisfied: pillow>=8 in /usr/local/lib/python3.12/dist-packages (from matplotlib>=3.1.1->matplot) (11.3.0)\n",
            "Requirement already satisfied: pyparsing>=2.3.1 in /usr/local/lib/python3.12/dist-packages (from matplotlib>=3.1.1->matplot) (3.2.5)\n",
            "Requirement already satisfied: ushlex in /usr/local/lib/python3.12/dist-packages (from pyloco>=0.0.134->matplot) (0.99.1)\n",
            "Requirement already satisfied: websocket-client in /usr/local/lib/python3.12/dist-packages (from pyloco>=0.0.134->matplot) (1.9.0)\n",
            "Requirement already satisfied: twine in /usr/local/lib/python3.12/dist-packages (from pyloco>=0.0.134->matplot) (6.2.0)\n",
            "Requirement already satisfied: typing in /usr/local/lib/python3.12/dist-packages (from pyloco>=0.0.134->matplot) (3.7.4.3)\n",
            "Requirement already satisfied: SimpleWebSocketServer in /usr/local/lib/python3.12/dist-packages (from pyloco>=0.0.134->matplot) (0.1.2)\n",
            "Requirement already satisfied: six>=1.5 in /usr/local/lib/python3.12/dist-packages (from python-dateutil>=2.8.2->pandas) (1.17.0)\n",
            "Requirement already satisfied: readme-renderer>=35.0 in /usr/local/lib/python3.12/dist-packages (from twine->pyloco>=0.0.134->matplot) (44.0)\n",
            "Requirement already satisfied: requests>=2.20 in /usr/local/lib/python3.12/dist-packages (from twine->pyloco>=0.0.134->matplot) (2.32.4)\n",
            "Requirement already satisfied: requests-toolbelt!=0.9.0,>=0.8.0 in /usr/local/lib/python3.12/dist-packages (from twine->pyloco>=0.0.134->matplot) (1.0.0)\n",
            "Requirement already satisfied: urllib3>=1.26.0 in /usr/local/lib/python3.12/dist-packages (from twine->pyloco>=0.0.134->matplot) (2.5.0)\n",
            "Requirement already satisfied: keyring>=21.2.0 in /usr/local/lib/python3.12/dist-packages (from twine->pyloco>=0.0.134->matplot) (25.6.0)\n",
            "Requirement already satisfied: rfc3986>=1.4.0 in /usr/local/lib/python3.12/dist-packages (from twine->pyloco>=0.0.134->matplot) (2.0.0)\n",
            "Requirement already satisfied: rich>=12.0.0 in /usr/local/lib/python3.12/dist-packages (from twine->pyloco>=0.0.134->matplot) (13.9.4)\n",
            "Requirement already satisfied: id in /usr/local/lib/python3.12/dist-packages (from twine->pyloco>=0.0.134->matplot) (1.5.0)\n",
            "Requirement already satisfied: SecretStorage>=3.2 in /usr/local/lib/python3.12/dist-packages (from keyring>=21.2.0->twine->pyloco>=0.0.134->matplot) (3.4.0)\n",
            "Requirement already satisfied: jeepney>=0.4.2 in /usr/local/lib/python3.12/dist-packages (from keyring>=21.2.0->twine->pyloco>=0.0.134->matplot) (0.9.0)\n",
            "Requirement already satisfied: jaraco.classes in /usr/local/lib/python3.12/dist-packages (from keyring>=21.2.0->twine->pyloco>=0.0.134->matplot) (3.4.0)\n",
            "Requirement already satisfied: jaraco.functools in /usr/local/lib/python3.12/dist-packages (from keyring>=21.2.0->twine->pyloco>=0.0.134->matplot) (4.3.0)\n",
            "Requirement already satisfied: jaraco.context in /usr/local/lib/python3.12/dist-packages (from keyring>=21.2.0->twine->pyloco>=0.0.134->matplot) (6.0.1)\n",
            "Requirement already satisfied: nh3>=0.2.14 in /usr/local/lib/python3.12/dist-packages (from readme-renderer>=35.0->twine->pyloco>=0.0.134->matplot) (0.3.1)\n",
            "Requirement already satisfied: docutils>=0.21.2 in /usr/local/lib/python3.12/dist-packages (from readme-renderer>=35.0->twine->pyloco>=0.0.134->matplot) (0.21.2)\n",
            "Requirement already satisfied: Pygments>=2.5.1 in /usr/local/lib/python3.12/dist-packages (from readme-renderer>=35.0->twine->pyloco>=0.0.134->matplot) (2.19.2)\n",
            "Requirement already satisfied: charset_normalizer<4,>=2 in /usr/local/lib/python3.12/dist-packages (from requests>=2.20->twine->pyloco>=0.0.134->matplot) (3.4.4)\n",
            "Requirement already satisfied: idna<4,>=2.5 in /usr/local/lib/python3.12/dist-packages (from requests>=2.20->twine->pyloco>=0.0.134->matplot) (3.11)\n",
            "Requirement already satisfied: certifi>=2017.4.17 in /usr/local/lib/python3.12/dist-packages (from requests>=2.20->twine->pyloco>=0.0.134->matplot) (2025.10.5)\n",
            "Requirement already satisfied: markdown-it-py>=2.2.0 in /usr/local/lib/python3.12/dist-packages (from rich>=12.0.0->twine->pyloco>=0.0.134->matplot) (4.0.0)\n",
            "Requirement already satisfied: mdurl~=0.1 in /usr/local/lib/python3.12/dist-packages (from markdown-it-py>=2.2.0->rich>=12.0.0->twine->pyloco>=0.0.134->matplot) (0.1.2)\n",
            "Requirement already satisfied: cryptography>=2.0 in /usr/local/lib/python3.12/dist-packages (from SecretStorage>=3.2->keyring>=21.2.0->twine->pyloco>=0.0.134->matplot) (43.0.3)\n",
            "Requirement already satisfied: more-itertools in /usr/local/lib/python3.12/dist-packages (from jaraco.classes->keyring>=21.2.0->twine->pyloco>=0.0.134->matplot) (10.8.0)\n",
            "Requirement already satisfied: cffi>=1.12 in /usr/local/lib/python3.12/dist-packages (from cryptography>=2.0->SecretStorage>=3.2->keyring>=21.2.0->twine->pyloco>=0.0.134->matplot) (2.0.0)\n",
            "Requirement already satisfied: pycparser in /usr/local/lib/python3.12/dist-packages (from cffi>=1.12->cryptography>=2.0->SecretStorage>=3.2->keyring>=21.2.0->twine->pyloco>=0.0.134->matplot) (2.23)\n"
          ]
        }
      ]
    },
    {
      "cell_type": "markdown",
      "source": [
        "1. Importando bibliotecas que serão utilizadas"
      ],
      "metadata": {
        "id": "ISmRpa4ABlgZ"
      }
    },
    {
      "cell_type": "code",
      "source": [
        "import pandas as pd\n",
        "import matplotlib.pyplot as plt"
      ],
      "metadata": {
        "id": "3D0LUMcNlwBD"
      },
      "execution_count": 3,
      "outputs": []
    },
    {
      "cell_type": "markdown",
      "source": [
        "2. Lendo dados essênciais para uma análise inicial das informações"
      ],
      "metadata": {
        "id": "F4x3qcV2CeiF"
      }
    },
    {
      "cell_type": "code",
      "source": [
        "df = pd.read_csv('/content/BMW sales data (2010-2024) (1).csv')\n",
        "df.shape\n",
        "df.info()\n",
        "df.head()\n",
        "df.describe()"
      ],
      "metadata": {
        "id": "PdGheZ5-DvTO",
        "colab": {
          "base_uri": "https://localhost:8080/",
          "height": 612
        },
        "outputId": "0fcfe092-c238-4035-d592-a97bebb6489f"
      },
      "execution_count": 4,
      "outputs": [
        {
          "output_type": "stream",
          "name": "stdout",
          "text": [
            "<class 'pandas.core.frame.DataFrame'>\n",
            "RangeIndex: 50000 entries, 0 to 49999\n",
            "Data columns (total 11 columns):\n",
            " #   Column                Non-Null Count  Dtype  \n",
            "---  ------                --------------  -----  \n",
            " 0   Model                 50000 non-null  object \n",
            " 1   Year                  50000 non-null  int64  \n",
            " 2   Region                50000 non-null  object \n",
            " 3   Color                 50000 non-null  object \n",
            " 4   Fuel_Type             50000 non-null  object \n",
            " 5   Transmission          50000 non-null  object \n",
            " 6   Engine_Size_L         50000 non-null  float64\n",
            " 7   Mileage_KM            50000 non-null  int64  \n",
            " 8   Price_USD             50000 non-null  int64  \n",
            " 9   Sales_Volume          50000 non-null  int64  \n",
            " 10  Sales_Classification  50000 non-null  object \n",
            "dtypes: float64(1), int64(4), object(6)\n",
            "memory usage: 4.2+ MB\n"
          ]
        },
        {
          "output_type": "execute_result",
          "data": {
            "text/plain": [
              "               Year  Engine_Size_L     Mileage_KM      Price_USD  Sales_Volume\n",
              "count  50000.000000   50000.000000   50000.000000   50000.000000  50000.000000\n",
              "mean    2017.015700       3.247180  100307.203140   75034.600900   5067.514680\n",
              "std        4.324459       1.009078   57941.509344   25998.248882   2856.767125\n",
              "min     2010.000000       1.500000       3.000000   30000.000000    100.000000\n",
              "25%     2013.000000       2.400000   50178.000000   52434.750000   2588.000000\n",
              "50%     2017.000000       3.200000  100388.500000   75011.500000   5087.000000\n",
              "75%     2021.000000       4.100000  150630.250000   97628.250000   7537.250000\n",
              "max     2024.000000       5.000000  199996.000000  119998.000000   9999.000000"
            ],
            "text/html": [
              "\n",
              "  <div id=\"df-08aadbd7-d2de-466d-ab5d-c93caa457de1\" class=\"colab-df-container\">\n",
              "    <div>\n",
              "<style scoped>\n",
              "    .dataframe tbody tr th:only-of-type {\n",
              "        vertical-align: middle;\n",
              "    }\n",
              "\n",
              "    .dataframe tbody tr th {\n",
              "        vertical-align: top;\n",
              "    }\n",
              "\n",
              "    .dataframe thead th {\n",
              "        text-align: right;\n",
              "    }\n",
              "</style>\n",
              "<table border=\"1\" class=\"dataframe\">\n",
              "  <thead>\n",
              "    <tr style=\"text-align: right;\">\n",
              "      <th></th>\n",
              "      <th>Year</th>\n",
              "      <th>Engine_Size_L</th>\n",
              "      <th>Mileage_KM</th>\n",
              "      <th>Price_USD</th>\n",
              "      <th>Sales_Volume</th>\n",
              "    </tr>\n",
              "  </thead>\n",
              "  <tbody>\n",
              "    <tr>\n",
              "      <th>count</th>\n",
              "      <td>50000.000000</td>\n",
              "      <td>50000.000000</td>\n",
              "      <td>50000.000000</td>\n",
              "      <td>50000.000000</td>\n",
              "      <td>50000.000000</td>\n",
              "    </tr>\n",
              "    <tr>\n",
              "      <th>mean</th>\n",
              "      <td>2017.015700</td>\n",
              "      <td>3.247180</td>\n",
              "      <td>100307.203140</td>\n",
              "      <td>75034.600900</td>\n",
              "      <td>5067.514680</td>\n",
              "    </tr>\n",
              "    <tr>\n",
              "      <th>std</th>\n",
              "      <td>4.324459</td>\n",
              "      <td>1.009078</td>\n",
              "      <td>57941.509344</td>\n",
              "      <td>25998.248882</td>\n",
              "      <td>2856.767125</td>\n",
              "    </tr>\n",
              "    <tr>\n",
              "      <th>min</th>\n",
              "      <td>2010.000000</td>\n",
              "      <td>1.500000</td>\n",
              "      <td>3.000000</td>\n",
              "      <td>30000.000000</td>\n",
              "      <td>100.000000</td>\n",
              "    </tr>\n",
              "    <tr>\n",
              "      <th>25%</th>\n",
              "      <td>2013.000000</td>\n",
              "      <td>2.400000</td>\n",
              "      <td>50178.000000</td>\n",
              "      <td>52434.750000</td>\n",
              "      <td>2588.000000</td>\n",
              "    </tr>\n",
              "    <tr>\n",
              "      <th>50%</th>\n",
              "      <td>2017.000000</td>\n",
              "      <td>3.200000</td>\n",
              "      <td>100388.500000</td>\n",
              "      <td>75011.500000</td>\n",
              "      <td>5087.000000</td>\n",
              "    </tr>\n",
              "    <tr>\n",
              "      <th>75%</th>\n",
              "      <td>2021.000000</td>\n",
              "      <td>4.100000</td>\n",
              "      <td>150630.250000</td>\n",
              "      <td>97628.250000</td>\n",
              "      <td>7537.250000</td>\n",
              "    </tr>\n",
              "    <tr>\n",
              "      <th>max</th>\n",
              "      <td>2024.000000</td>\n",
              "      <td>5.000000</td>\n",
              "      <td>199996.000000</td>\n",
              "      <td>119998.000000</td>\n",
              "      <td>9999.000000</td>\n",
              "    </tr>\n",
              "  </tbody>\n",
              "</table>\n",
              "</div>\n",
              "    <div class=\"colab-df-buttons\">\n",
              "\n",
              "  <div class=\"colab-df-container\">\n",
              "    <button class=\"colab-df-convert\" onclick=\"convertToInteractive('df-08aadbd7-d2de-466d-ab5d-c93caa457de1')\"\n",
              "            title=\"Convert this dataframe to an interactive table.\"\n",
              "            style=\"display:none;\">\n",
              "\n",
              "  <svg xmlns=\"http://www.w3.org/2000/svg\" height=\"24px\" viewBox=\"0 -960 960 960\">\n",
              "    <path d=\"M120-120v-720h720v720H120Zm60-500h600v-160H180v160Zm220 220h160v-160H400v160Zm0 220h160v-160H400v160ZM180-400h160v-160H180v160Zm440 0h160v-160H620v160ZM180-180h160v-160H180v160Zm440 0h160v-160H620v160Z\"/>\n",
              "  </svg>\n",
              "    </button>\n",
              "\n",
              "  <style>\n",
              "    .colab-df-container {\n",
              "      display:flex;\n",
              "      gap: 12px;\n",
              "    }\n",
              "\n",
              "    .colab-df-convert {\n",
              "      background-color: #E8F0FE;\n",
              "      border: none;\n",
              "      border-radius: 50%;\n",
              "      cursor: pointer;\n",
              "      display: none;\n",
              "      fill: #1967D2;\n",
              "      height: 32px;\n",
              "      padding: 0 0 0 0;\n",
              "      width: 32px;\n",
              "    }\n",
              "\n",
              "    .colab-df-convert:hover {\n",
              "      background-color: #E2EBFA;\n",
              "      box-shadow: 0px 1px 2px rgba(60, 64, 67, 0.3), 0px 1px 3px 1px rgba(60, 64, 67, 0.15);\n",
              "      fill: #174EA6;\n",
              "    }\n",
              "\n",
              "    .colab-df-buttons div {\n",
              "      margin-bottom: 4px;\n",
              "    }\n",
              "\n",
              "    [theme=dark] .colab-df-convert {\n",
              "      background-color: #3B4455;\n",
              "      fill: #D2E3FC;\n",
              "    }\n",
              "\n",
              "    [theme=dark] .colab-df-convert:hover {\n",
              "      background-color: #434B5C;\n",
              "      box-shadow: 0px 1px 3px 1px rgba(0, 0, 0, 0.15);\n",
              "      filter: drop-shadow(0px 1px 2px rgba(0, 0, 0, 0.3));\n",
              "      fill: #FFFFFF;\n",
              "    }\n",
              "  </style>\n",
              "\n",
              "    <script>\n",
              "      const buttonEl =\n",
              "        document.querySelector('#df-08aadbd7-d2de-466d-ab5d-c93caa457de1 button.colab-df-convert');\n",
              "      buttonEl.style.display =\n",
              "        google.colab.kernel.accessAllowed ? 'block' : 'none';\n",
              "\n",
              "      async function convertToInteractive(key) {\n",
              "        const element = document.querySelector('#df-08aadbd7-d2de-466d-ab5d-c93caa457de1');\n",
              "        const dataTable =\n",
              "          await google.colab.kernel.invokeFunction('convertToInteractive',\n",
              "                                                    [key], {});\n",
              "        if (!dataTable) return;\n",
              "\n",
              "        const docLinkHtml = 'Like what you see? Visit the ' +\n",
              "          '<a target=\"_blank\" href=https://colab.research.google.com/notebooks/data_table.ipynb>data table notebook</a>'\n",
              "          + ' to learn more about interactive tables.';\n",
              "        element.innerHTML = '';\n",
              "        dataTable['output_type'] = 'display_data';\n",
              "        await google.colab.output.renderOutput(dataTable, element);\n",
              "        const docLink = document.createElement('div');\n",
              "        docLink.innerHTML = docLinkHtml;\n",
              "        element.appendChild(docLink);\n",
              "      }\n",
              "    </script>\n",
              "  </div>\n",
              "\n",
              "\n",
              "    <div id=\"df-0be1771a-42e9-417f-a59f-861362f10762\">\n",
              "      <button class=\"colab-df-quickchart\" onclick=\"quickchart('df-0be1771a-42e9-417f-a59f-861362f10762')\"\n",
              "                title=\"Suggest charts\"\n",
              "                style=\"display:none;\">\n",
              "\n",
              "<svg xmlns=\"http://www.w3.org/2000/svg\" height=\"24px\"viewBox=\"0 0 24 24\"\n",
              "     width=\"24px\">\n",
              "    <g>\n",
              "        <path d=\"M19 3H5c-1.1 0-2 .9-2 2v14c0 1.1.9 2 2 2h14c1.1 0 2-.9 2-2V5c0-1.1-.9-2-2-2zM9 17H7v-7h2v7zm4 0h-2V7h2v10zm4 0h-2v-4h2v4z\"/>\n",
              "    </g>\n",
              "</svg>\n",
              "      </button>\n",
              "\n",
              "<style>\n",
              "  .colab-df-quickchart {\n",
              "      --bg-color: #E8F0FE;\n",
              "      --fill-color: #1967D2;\n",
              "      --hover-bg-color: #E2EBFA;\n",
              "      --hover-fill-color: #174EA6;\n",
              "      --disabled-fill-color: #AAA;\n",
              "      --disabled-bg-color: #DDD;\n",
              "  }\n",
              "\n",
              "  [theme=dark] .colab-df-quickchart {\n",
              "      --bg-color: #3B4455;\n",
              "      --fill-color: #D2E3FC;\n",
              "      --hover-bg-color: #434B5C;\n",
              "      --hover-fill-color: #FFFFFF;\n",
              "      --disabled-bg-color: #3B4455;\n",
              "      --disabled-fill-color: #666;\n",
              "  }\n",
              "\n",
              "  .colab-df-quickchart {\n",
              "    background-color: var(--bg-color);\n",
              "    border: none;\n",
              "    border-radius: 50%;\n",
              "    cursor: pointer;\n",
              "    display: none;\n",
              "    fill: var(--fill-color);\n",
              "    height: 32px;\n",
              "    padding: 0;\n",
              "    width: 32px;\n",
              "  }\n",
              "\n",
              "  .colab-df-quickchart:hover {\n",
              "    background-color: var(--hover-bg-color);\n",
              "    box-shadow: 0 1px 2px rgba(60, 64, 67, 0.3), 0 1px 3px 1px rgba(60, 64, 67, 0.15);\n",
              "    fill: var(--button-hover-fill-color);\n",
              "  }\n",
              "\n",
              "  .colab-df-quickchart-complete:disabled,\n",
              "  .colab-df-quickchart-complete:disabled:hover {\n",
              "    background-color: var(--disabled-bg-color);\n",
              "    fill: var(--disabled-fill-color);\n",
              "    box-shadow: none;\n",
              "  }\n",
              "\n",
              "  .colab-df-spinner {\n",
              "    border: 2px solid var(--fill-color);\n",
              "    border-color: transparent;\n",
              "    border-bottom-color: var(--fill-color);\n",
              "    animation:\n",
              "      spin 1s steps(1) infinite;\n",
              "  }\n",
              "\n",
              "  @keyframes spin {\n",
              "    0% {\n",
              "      border-color: transparent;\n",
              "      border-bottom-color: var(--fill-color);\n",
              "      border-left-color: var(--fill-color);\n",
              "    }\n",
              "    20% {\n",
              "      border-color: transparent;\n",
              "      border-left-color: var(--fill-color);\n",
              "      border-top-color: var(--fill-color);\n",
              "    }\n",
              "    30% {\n",
              "      border-color: transparent;\n",
              "      border-left-color: var(--fill-color);\n",
              "      border-top-color: var(--fill-color);\n",
              "      border-right-color: var(--fill-color);\n",
              "    }\n",
              "    40% {\n",
              "      border-color: transparent;\n",
              "      border-right-color: var(--fill-color);\n",
              "      border-top-color: var(--fill-color);\n",
              "    }\n",
              "    60% {\n",
              "      border-color: transparent;\n",
              "      border-right-color: var(--fill-color);\n",
              "    }\n",
              "    80% {\n",
              "      border-color: transparent;\n",
              "      border-right-color: var(--fill-color);\n",
              "      border-bottom-color: var(--fill-color);\n",
              "    }\n",
              "    90% {\n",
              "      border-color: transparent;\n",
              "      border-bottom-color: var(--fill-color);\n",
              "    }\n",
              "  }\n",
              "</style>\n",
              "\n",
              "      <script>\n",
              "        async function quickchart(key) {\n",
              "          const quickchartButtonEl =\n",
              "            document.querySelector('#' + key + ' button');\n",
              "          quickchartButtonEl.disabled = true;  // To prevent multiple clicks.\n",
              "          quickchartButtonEl.classList.add('colab-df-spinner');\n",
              "          try {\n",
              "            const charts = await google.colab.kernel.invokeFunction(\n",
              "                'suggestCharts', [key], {});\n",
              "          } catch (error) {\n",
              "            console.error('Error during call to suggestCharts:', error);\n",
              "          }\n",
              "          quickchartButtonEl.classList.remove('colab-df-spinner');\n",
              "          quickchartButtonEl.classList.add('colab-df-quickchart-complete');\n",
              "        }\n",
              "        (() => {\n",
              "          let quickchartButtonEl =\n",
              "            document.querySelector('#df-0be1771a-42e9-417f-a59f-861362f10762 button');\n",
              "          quickchartButtonEl.style.display =\n",
              "            google.colab.kernel.accessAllowed ? 'block' : 'none';\n",
              "        })();\n",
              "      </script>\n",
              "    </div>\n",
              "\n",
              "    </div>\n",
              "  </div>\n"
            ],
            "application/vnd.google.colaboratory.intrinsic+json": {
              "type": "dataframe",
              "summary": "{\n  \"name\": \"df\",\n  \"rows\": 8,\n  \"fields\": [\n    {\n      \"column\": \"Year\",\n      \"properties\": {\n        \"dtype\": \"number\",\n        \"std\": 17080.733758236962,\n        \"min\": 4.32445921809319,\n        \"max\": 50000.0,\n        \"num_unique_values\": 8,\n        \"samples\": [\n          2017.0157,\n          2017.0,\n          50000.0\n        ],\n        \"semantic_type\": \"\",\n        \"description\": \"\"\n      }\n    },\n    {\n      \"column\": \"Engine_Size_L\",\n      \"properties\": {\n        \"dtype\": \"number\",\n        \"std\": 17676.63638044432,\n        \"min\": 1.0090783975412023,\n        \"max\": 50000.0,\n        \"num_unique_values\": 8,\n        \"samples\": [\n          3.24718,\n          3.2,\n          50000.0\n        ],\n        \"semantic_type\": \"\",\n        \"description\": \"\"\n      }\n    },\n    {\n      \"column\": \"Mileage_KM\",\n      \"properties\": {\n        \"dtype\": \"number\",\n        \"std\": 63570.40831631417,\n        \"min\": 3.0,\n        \"max\": 199996.0,\n        \"num_unique_values\": 8,\n        \"samples\": [\n          100307.20314,\n          100388.5,\n          50000.0\n        ],\n        \"semantic_type\": \"\",\n        \"description\": \"\"\n      }\n    },\n    {\n      \"column\": \"Price_USD\",\n      \"properties\": {\n        \"dtype\": \"number\",\n        \"std\": 32545.942769731973,\n        \"min\": 25998.248881722626,\n        \"max\": 119998.0,\n        \"num_unique_values\": 8,\n        \"samples\": [\n          75034.6009,\n          75011.5,\n          50000.0\n        ],\n        \"semantic_type\": \"\",\n        \"description\": \"\"\n      }\n    },\n    {\n      \"column\": \"Sales_Volume\",\n      \"properties\": {\n        \"dtype\": \"number\",\n        \"std\": 16288.458032957327,\n        \"min\": 100.0,\n        \"max\": 50000.0,\n        \"num_unique_values\": 8,\n        \"samples\": [\n          5067.51468,\n          5087.0,\n          50000.0\n        ],\n        \"semantic_type\": \"\",\n        \"description\": \"\"\n      }\n    }\n  ]\n}"
            }
          },
          "metadata": {},
          "execution_count": 4
        }
      ]
    },
    {
      "cell_type": "markdown",
      "source": [
        "3. Criando nova coluna correspondente ao valor total de vendas\n",
        "4. Criando novo DataFrame correspondente ao total de vendas dividido por região"
      ],
      "metadata": {
        "id": "wDpGz089Fm1R"
      }
    },
    {
      "cell_type": "code",
      "source": [
        "df['Total_Sales'] = df['Sales_Volume'] * df['Price_USD']\n",
        "\n",
        "total_sales = df.groupby('Region')['Total_Sales'].sum()"
      ],
      "metadata": {
        "id": "XXw8Ut91DMJm"
      },
      "execution_count": 5,
      "outputs": []
    },
    {
      "cell_type": "code",
      "source": [
        "plt.figure(figsize=(10, 6))\n",
        "total_sales.plot(marker='o')\n",
        "plt.title('BMW Sales Dynamics by Year')\n",
        "plt.grid(True)\n",
        "plt.show()"
      ],
      "metadata": {
        "colab": {
          "base_uri": "https://localhost:8080/",
          "height": 551
        },
        "id": "ZjSEnG53mV_K",
        "outputId": "e2bfd383-ff42-4ee4-89ce-091aae83a78b"
      },
      "execution_count": 6,
      "outputs": [
        {
          "output_type": "display_data",
          "data": {
            "text/plain": [
              "<Figure size 1000x600 with 1 Axes>"
            ],
            "image/png": "[encoded data removed]"
          },
          "metadata": {}
        }
      ]
    },
    {
      "cell_type": "markdown",
      "source": [
        "5. Criando DataFrame com dados do volume de vendas de cada modelo de carro"
      ],
      "metadata": {
        "id": "MsysD7fGF6wU"
      }
    },
    {
      "cell_type": "code",
      "source": [
        "top_models = df.groupby('Model')['Sales_Volume'].sum().sort_values(ascending = False).head(10)\n",
        "top_models"
      ],
      "metadata": {
        "colab": {
          "base_uri": "https://localhost:8080/",
          "height": 429
        },
        "id": "mlg8jI1Q3qYC",
        "outputId": "0e906841-0868-4a35-e8ce-bdec85944d10"
      },
      "execution_count": 7,
      "outputs": [
        {
          "output_type": "execute_result",
          "data": {
            "text/plain": [
              "Model\n",
              "7 Series    23786466\n",
              "i8          23423891\n",
              "X1          23406060\n",
              "3 Series    23281303\n",
              "i3          23133849\n",
              "5 Series    23097519\n",
              "M5          22779688\n",
              "X3          22745529\n",
              "X5          22709749\n",
              "X6          22661986\n",
              "Name: Sales_Volume, dtype: int64"
            ],
            "text/html": [
              "<div>\n",
              "<style scoped>\n",
              "    .dataframe tbody tr th:only-of-type {\n",
              "        vertical-align: middle;\n",
              "    }\n",
              "\n",
              "    .dataframe tbody tr th {\n",
              "        vertical-align: top;\n",
              "    }\n",
              "\n",
              "    .dataframe thead th {\n",
              "        text-align: right;\n",
              "    }\n",
              "</style>\n",
              "<table border=\"1\" class=\"dataframe\">\n",
              "  <thead>\n",
              "    <tr style=\"text-align: right;\">\n",
              "      <th></th>\n",
              "      <th>Sales_Volume</th>\n",
              "    </tr>\n",
              "    <tr>\n",
              "      <th>Model</th>\n",
              "      <th></th>\n",
              "    </tr>\n",
              "  </thead>\n",
              "  <tbody>\n",
              "    <tr>\n",
              "      <th>7 Series</th>\n",
              "      <td>23786466</td>\n",
              "    </tr>\n",
              "    <tr>\n",
              "      <th>i8</th>\n",
              "      <td>23423891</td>\n",
              "    </tr>\n",
              "    <tr>\n",
              "      <th>X1</th>\n",
              "      <td>23406060</td>\n",
              "    </tr>\n",
              "    <tr>\n",
              "      <th>3 Series</th>\n",
              "      <td>23281303</td>\n",
              "    </tr>\n",
              "    <tr>\n",
              "      <th>i3</th>\n",
              "      <td>23133849</td>\n",
              "    </tr>\n",
              "    <tr>\n",
              "      <th>5 Series</th>\n",
              "      <td>23097519</td>\n",
              "    </tr>\n",
              "    <tr>\n",
              "      <th>M5</th>\n",
              "      <td>22779688</td>\n",
              "    </tr>\n",
              "    <tr>\n",
              "      <th>X3</th>\n",
              "      <td>22745529</td>\n",
              "    </tr>\n",
              "    <tr>\n",
              "      <th>X5</th>\n",
              "      <td>22709749</td>\n",
              "    </tr>\n",
              "    <tr>\n",
              "      <th>X6</th>\n",
              "      <td>22661986</td>\n",
              "    </tr>\n",
              "  </tbody>\n",
              "</table>\n",
              "</div><br><label><b>dtype:</b> int64</label>"
            ]
          },
          "metadata": {},
          "execution_count": 7
        }
      ]
    },
    {
      "cell_type": "code",
      "source": [
        "plt.figure(figsize=(12, 6))\n",
        "top_models.plot(kind='barh')\n",
        "plt.title('Top 10 BMW Models by Sales Volume')\n",
        "plt.xlabel('Sales Volume')\n",
        "plt.show()"
      ],
      "metadata": {
        "colab": {
          "base_uri": "https://localhost:8080/",
          "height": 456
        },
        "id": "AAveDuf25jXw",
        "outputId": "fdcacf29-365b-425a-f4a5-e2f57d41dd1c"
      },
      "execution_count": 8,
      "outputs": [
        {
          "output_type": "display_data",
          "data": {
            "text/plain": [
              "<Figure size 1200x600 with 1 Axes>"
            ],
            "image/png": "[encoded data removed]"
          },
          "metadata": {}
        }
      ]
    },
    {
      "cell_type": "markdown",
      "source": [
        "6. Criando DataFrame com dados do volume de vendas de cada cor de carro"
      ],
      "metadata": {
        "id": "HSslU4CoGLxl"
      }
    },
    {
      "cell_type": "code",
      "source": [
        "top_colors = df.groupby('Color')['Sales_Volume'].sum().sort_values(ascending=False)\n",
        "top_colors"
      ],
      "metadata": {
        "colab": {
          "base_uri": "https://localhost:8080/",
          "height": 303
        },
        "id": "zWZwGbRP7JAg",
        "outputId": "523bf194-990d-4a54-b472-bb11262ae917"
      },
      "execution_count": 9,
      "outputs": [
        {
          "output_type": "execute_result",
          "data": {
            "text/plain": [
              "Color\n",
              "Red       42750183\n",
              "Silver    42674022\n",
              "White     42272954\n",
              "Grey      41995141\n",
              "Blue      41972741\n",
              "Black     41710693\n",
              "Name: Sales_Volume, dtype: int64"
            ],
            "text/html": [
              "<div>\n",
              "<style scoped>\n",
              "    .dataframe tbody tr th:only-of-type {\n",
              "        vertical-align: middle;\n",
              "    }\n",
              "\n",
              "    .dataframe tbody tr th {\n",
              "        vertical-align: top;\n",
              "    }\n",
              "\n",
              "    .dataframe thead th {\n",
              "        text-align: right;\n",
              "    }\n",
              "</style>\n",
              "<table border=\"1\" class=\"dataframe\">\n",
              "  <thead>\n",
              "    <tr style=\"text-align: right;\">\n",
              "      <th></th>\n",
              "      <th>Sales_Volume</th>\n",
              "    </tr>\n",
              "    <tr>\n",
              "      <th>Color</th>\n",
              "      <th></th>\n",
              "    </tr>\n",
              "  </thead>\n",
              "  <tbody>\n",
              "    <tr>\n",
              "      <th>Red</th>\n",
              "      <td>42750183</td>\n",
              "    </tr>\n",
              "    <tr>\n",
              "      <th>Silver</th>\n",
              "      <td>42674022</td>\n",
              "    </tr>\n",
              "    <tr>\n",
              "      <th>White</th>\n",
              "      <td>42272954</td>\n",
              "    </tr>\n",
              "    <tr>\n",
              "      <th>Grey</th>\n",
              "      <td>41995141</td>\n",
              "    </tr>\n",
              "    <tr>\n",
              "      <th>Blue</th>\n",
              "      <td>41972741</td>\n",
              "    </tr>\n",
              "    <tr>\n",
              "      <th>Black</th>\n",
              "      <td>41710693</td>\n",
              "    </tr>\n",
              "  </tbody>\n",
              "</table>\n",
              "</div><br><label><b>dtype:</b> int64</label>"
            ]
          },
          "metadata": {},
          "execution_count": 9
        }
      ]
    },
    {
      "cell_type": "code",
      "source": [
        "plt.figure(figsize=(18, 6))\n",
        "top_colors.plot(kind='barh')\n",
        "plt.title('Top Color by Sales Volume')\n",
        "plt.xlabel('Color')\n",
        "plt.show()\n"
      ],
      "metadata": {
        "colab": {
          "base_uri": "https://localhost:8080/",
          "height": 323
        },
        "id": "v1iYePWB7zp1",
        "outputId": "50ce79fd-edc4-4a78-baff-16e575e0fa8b"
      },
      "execution_count": 10,
      "outputs": [
        {
          "output_type": "display_data",
          "data": {
            "text/plain": [
              "<Figure size 1800x600 with 1 Axes>"
            ],
            "image/png": "[encoded data removed]"
          },
          "metadata": {}
        }
      ]
    },
    {
      "cell_type": "markdown",
      "source": [
        "7. DataFrame responsável por medir quanto foi vendido em cada ano"
      ],
      "metadata": {
        "id": "7E3LFP2pGXuL"
      }
    },
    {
      "cell_type": "code",
      "source": [
        "year_volume = df.groupby('Year')['Sales_Volume'].sum()\n",
        "year_volume"
      ],
      "metadata": {
        "colab": {
          "base_uri": "https://localhost:8080/",
          "height": 585
        },
        "id": "7mta_mx89O64",
        "outputId": "b04d3edc-e8ff-4917-cc2a-d3eafc01388f"
      },
      "execution_count": 11,
      "outputs": [
        {
          "output_type": "execute_result",
          "data": {
            "text/plain": [
              "Year\n",
              "2010    16933445\n",
              "2011    16758941\n",
              "2012    16751895\n",
              "2013    16866733\n",
              "2014    16958960\n",
              "2015    17010207\n",
              "2016    16957550\n",
              "2017    16620811\n",
              "2018    16412273\n",
              "2019    17191956\n",
              "2020    16310843\n",
              "2021    16884666\n",
              "2022    17920946\n",
              "2023    16268654\n",
              "2024    17527854\n",
              "Name: Sales_Volume, dtype: int64"
            ],
            "text/html": [
              "<div>\n",
              "<style scoped>\n",
              "    .dataframe tbody tr th:only-of-type {\n",
              "        vertical-align: middle;\n",
              "    }\n",
              "\n",
              "    .dataframe tbody tr th {\n",
              "        vertical-align: top;\n",
              "    }\n",
              "\n",
              "    .dataframe thead th {\n",
              "        text-align: right;\n",
              "    }\n",
              "</style>\n",
              "<table border=\"1\" class=\"dataframe\">\n",
              "  <thead>\n",
              "    <tr style=\"text-align: right;\">\n",
              "      <th></th>\n",
              "      <th>Sales_Volume</th>\n",
              "    </tr>\n",
              "    <tr>\n",
              "      <th>Year</th>\n",
              "      <th></th>\n",
              "    </tr>\n",
              "  </thead>\n",
              "  <tbody>\n",
              "    <tr>\n",
              "      <th>2010</th>\n",
              "      <td>16933445</td>\n",
              "    </tr>\n",
              "    <tr>\n",
              "      <th>2011</th>\n",
              "      <td>16758941</td>\n",
              "    </tr>\n",
              "    <tr>\n",
              "      <th>2012</th>\n",
              "      <td>16751895</td>\n",
              "    </tr>\n",
              "    <tr>\n",
              "      <th>2013</th>\n",
              "      <td>16866733</td>\n",
              "    </tr>\n",
              "    <tr>\n",
              "      <th>2014</th>\n",
              "      <td>16958960</td>\n",
              "    </tr>\n",
              "    <tr>\n",
              "      <th>2015</th>\n",
              "      <td>17010207</td>\n",
              "    </tr>\n",
              "    <tr>\n",
              "      <th>2016</th>\n",
              "      <td>16957550</td>\n",
              "    </tr>\n",
              "    <tr>\n",
              "      <th>2017</th>\n",
              "      <td>16620811</td>\n",
              "    </tr>\n",
              "    <tr>\n",
              "      <th>2018</th>\n",
              "      <td>16412273</td>\n",
              "    </tr>\n",
              "    <tr>\n",
              "      <th>2019</th>\n",
              "      <td>17191956</td>\n",
              "    </tr>\n",
              "    <tr>\n",
              "      <th>2020</th>\n",
              "      <td>16310843</td>\n",
              "    </tr>\n",
              "    <tr>\n",
              "      <th>2021</th>\n",
              "      <td>16884666</td>\n",
              "    </tr>\n",
              "    <tr>\n",
              "      <th>2022</th>\n",
              "      <td>17920946</td>\n",
              "    </tr>\n",
              "    <tr>\n",
              "      <th>2023</th>\n",
              "      <td>16268654</td>\n",
              "    </tr>\n",
              "    <tr>\n",
              "      <th>2024</th>\n",
              "      <td>17527854</td>\n",
              "    </tr>\n",
              "  </tbody>\n",
              "</table>\n",
              "</div><br><label><b>dtype:</b> int64</label>"
            ]
          },
          "metadata": {},
          "execution_count": 11
        }
      ]
    },
    {
      "cell_type": "code",
      "source": [
        "plt.figure(figsize=(10, 4))\n",
        "year_volume.plot(marker='o')\n",
        "plt.title('BMW Sales Dynamics by Year')\n",
        "plt.grid(True)\n",
        "plt.show()"
      ],
      "metadata": {
        "colab": {
          "base_uri": "https://localhost:8080/",
          "height": 404
        },
        "id": "KpMwyhqb9fR9",
        "outputId": "06b33848-fa49-4945-9920-20d403f0baa1"
      },
      "execution_count": 12,
      "outputs": [
        {
          "output_type": "display_data",
          "data": {
            "text/plain": [
              "<Figure size 1000x400 with 1 Axes>"
            ],
            "image/png": "[encoded data removed]"
          },
          "metadata": {}
        }
      ]
    }
  ]
}